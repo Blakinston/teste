{
 "cells": [
  {
   "cell_type": "code",
   "execution_count": null,
   "metadata": {},
   "outputs": [],
   "source": [
    "untracked: nao esta rastreado as modificacoes \n",
    "# stage area antes de ir para comit \n",
    "## modified: aterado \n",
    "# historico do git: mais recente do mais velho\n",
    "# checkout: mostra o estado que estavamos naquele comit, git checkout master, retorna a master"
   ]
  },
  {
   "cell_type": "code",
   "execution_count": null,
   "metadata": {},
   "outputs": [],
   "source": [
    "git push: enviar arquivo nescessita de permisao para enviar \n",
    "git pull: traz atualizado do repositorio, "
   ]
  },
  {
   "cell_type": "code",
   "execution_count": null,
   "metadata": {},
   "outputs": [],
   "source": [
    "# branches: linhas do tempo alternativas\n",
    "## merge: juntando para linha principal\n",
    "### fast foward: quando os commits de outra branch  pode ser inclussos de maneira sequencial sem problemas(podemos excluir a branch depois de abexar na master)\n",
    "### recursive: conforme eu fui fazendo em outras branch e voltando para master e modificando, ele vai unir o merge, por merges feito. Ex master: add1, br2: add2 , master: add3, ele unira nessa ordem"
   ]
  },
  {
   "cell_type": "code",
   "execution_count": null,
   "metadata": {},
   "outputs": [],
   "source": [
    "git branch: criar branch \n",
    "git checkout nome-barnch: serve para navegar entre as branchs, quando eu vou de uma para outra os arquivos somem\n",
    "git log --graph: mostra o log, como grafo, se le de baixo para cima(em cima commit mais recente)\n",
    "git branch -d nome-branch: exclui a branch"
   ]
  },
  {
   "cell_type": "code",
   "execution_count": null,
   "metadata": {},
   "outputs": [],
   "source": [
    "conflitos \n",
    "head: estado do primeiro comitt\n",
    "final: do ultimo comit\n",
    "no caso eu posso manter todas as linhas e salvar ou so manter o estado q desejo e depois fazer novo commit "
   ]
  },
  {
   "cell_type": "code",
   "execution_count": null,
   "metadata": {},
   "outputs": [],
   "source": [
    "issue: bugs em projetos, novas fetures "
   ]
  }
 ],
 "metadata": {
  "kernelspec": {
   "display_name": "base",
   "language": "python",
   "name": "python3"
  },
  "language_info": {
   "name": "python",
   "version": "3.9.13"
  },
  "orig_nbformat": 4
 },
 "nbformat": 4,
 "nbformat_minor": 2
}
